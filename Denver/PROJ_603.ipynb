{
 "cells": [
  {
   "cell_type": "code",
   "execution_count": null,
   "metadata": {
    "_cell_guid": "b1076dfc-b9ad-4769-8c92-a6c4dae69d19",
    "_uuid": "8f2839f25d086af736a60e9eeb907d3b93b6e0e5"
   },
   "outputs": [],
   "source": [
    "import numpy as np \n",
    "import pandas as pd \n",
    "import matplotlib.pyplot as plt\n",
    "import seaborn as sns\n",
    "import plotly.graph_objs as go\n",
    "from plotly.offline import init_notebook_mode\n",
    "import cufflinks as cf\n",
    "import plotly.tools as tls\n",
    "import chart_studio.plotly as py\n",
    "import folium\n",
    "init_notebook_mode(connected=True)\n",
    "cf.go_offline()\n",
    "%matplotlib inline\n",
    "sns.set()\n",
    "p = sns.cubehelix_palette(15)\n",
    "p2 = sns.cubehelix_palette(10)\n",
    "p3 = sns.cubehelix_palette(24)\n",
    "p4 = sns.cubehelix_palette(5)"
   ]
  },
  {
   "cell_type": "code",
   "execution_count": null,
   "metadata": {
    "_cell_guid": "79c7e3d0-c299-4dcb-8224-4455121ee9b0",
    "_uuid": "d629ff2d2480ee46fbb7e2d37f6b5fab8052498a"
   },
   "outputs": [],
   "source": [
    "import pymongo as pym\n",
    "from pymongo import MongoClient as MC\n",
    "client = MC()\n",
    "db = client['denver']\n",
    "crime = db.crimes\n",
    "df = pd.DataFrame(list(crime.find()))"
   ]
  },
  {
   "cell_type": "raw",
   "metadata": {},
   "source": [
    "df = pd.read_csv(\"crime.csv\")"
   ]
  },
  {
   "cell_type": "code",
   "execution_count": null,
   "metadata": {},
   "outputs": [],
   "source": [
    "df.head()"
   ]
  },
  {
   "cell_type": "code",
   "execution_count": null,
   "metadata": {},
   "outputs": [],
   "source": [
    "pd.set_option('display.max_columns', None)\n",
    "df.info()"
   ]
  },
  {
   "cell_type": "markdown",
   "metadata": {},
   "source": [
    "## Process Date and Clean Data"
   ]
  },
  {
   "cell_type": "code",
   "execution_count": null,
   "metadata": {},
   "outputs": [],
   "source": [
    "df.FIRST_OCCURRENCE_DATE = pd.to_datetime(df.FIRST_OCCURRENCE_DATE)\n",
    "df[\"YEAR\"] = df.FIRST_OCCURRENCE_DATE.dt.year\n",
    "df[\"DAY\"] = df.FIRST_OCCURRENCE_DATE.dt.day\n",
    "df[\"DAY_OF_WEEK\"] = df.FIRST_OCCURRENCE_DATE.dt.dayofweek\n",
    "df[\"MONTH\"] = df.FIRST_OCCURRENCE_DATE.dt.month\n",
    "df[\"HOUR\"] = df.FIRST_OCCURRENCE_DATE.dt.hour\n",
    "df.index = pd.DatetimeIndex(df[\"FIRST_OCCURRENCE_DATE\"])"
   ]
  },
  {
   "cell_type": "code",
   "execution_count": null,
   "metadata": {},
   "outputs": [],
   "source": [
    "df.head()"
   ]
  },
  {
   "cell_type": "code",
   "execution_count": null,
   "metadata": {},
   "outputs": [],
   "source": [
    "df.info()"
   ]
  },
  {
   "cell_type": "code",
   "execution_count": null,
   "metadata": {},
   "outputs": [],
   "source": [
    "print(\"This dataset ranges from {} to {}\".format(df.index.min(), df.index.max()))"
   ]
  },
  {
   "cell_type": "code",
   "execution_count": null,
   "metadata": {},
   "outputs": [],
   "source": [
    "# The last month's data is incomplete, so let's get rid of it\n",
    "date_before = pd.Timestamp(2019, 7, 1)\n",
    "df = df[df.FIRST_OCCURRENCE_DATE < date_before]"
   ]
  },
  {
   "cell_type": "markdown",
   "metadata": {},
   "source": [
    "## Spark Contribution"
   ]
  },
  {
   "cell_type": "code",
   "execution_count": null,
   "metadata": {},
   "outputs": [],
   "source": [
    "import pyspark\n",
    "from pyspark import SparkConf\n",
    "from pyspark import SparkContext\n",
    "from pyspark.sql import SparkSession\n",
    "#from pyspark.sql import SQLContext\n",
    "from pyspark.sql import HiveContext\n",
    "from pyspark.sql import functions as F\n",
    "from pyspark.sql.functions import *\n",
    "from pyspark.sql.types import *"
   ]
  },
  {
   "cell_type": "code",
   "execution_count": null,
   "metadata": {},
   "outputs": [],
   "source": [
    "myspark = SparkSession \\\n",
    "    .builder \\\n",
    "    .master(\"local\")\\\n",
    "    .appName(\"myApp\") \\\n",
    "    .config(\"spark.sql.warehouse.dir\", \"hdfs://MA:8020/user/hive/warehouse\")\\\n",
    "    .enableHiveSupport()\\\n",
    "    .getOrCreate()"
   ]
  },
  {
   "cell_type": "code",
   "execution_count": null,
   "metadata": {},
   "outputs": [],
   "source": [
    "mySchema = StructType([ StructField(\"DISTRICT_ID\", LongType(), True)\\\n",
    "                       ,StructField(\"FIRST_OCCURRENCE_DATE\", StringType(), True)\\\n",
    "                       ,StructField(\"GEO_LAT\", FloatType(), True)\\\n",
    "                       ,StructField(\"GEO_LON\", FloatType(), True)\\\n",
    "                       ,StructField(\"GEO_X\", FloatType(), True)\\\n",
    "                       ,StructField(\"GEO_Y\", FloatType(), True)\\\n",
    "                       ,StructField(\"INCIDENT_ADDRESS\", StringType(), True)\\\n",
    "                       ,StructField(\"INCIDENT_ID\", LongType(), True)\\\n",
    "                       ,StructField(\"IS_CRIME\", IntegerType(), True)\\\n",
    "                       ,StructField(\"IS_TRAFFIC\", IntegerType(), True)\\\n",
    "                       ,StructField(\"LAST_OCCURRENCE_DATE\", StringType(), True)\\\n",
    "                       ,StructField(\"NEIGHBORHOOD_ID\", StringType(), True)\\\n",
    "                       ,StructField(\"OFFENSE_CATEGORY_ID\", StringType(), True)\\\n",
    "                       ,StructField(\"OFFENSE_CODE\", IntegerType(), True)\\\n",
    "                       ,StructField(\"OFFENSE_CODE_EXTENSION\", IntegerType(), True)\\\n",
    "                       ,StructField(\"OFFENSE_ID\", LongType(), True)\\\n",
    "                       ,StructField(\"OFFENSE_TYPE_ID\", StringType(), True)\\\n",
    "                       ,StructField(\"PRECINCT_ID\", IntegerType(), True)\\\n",
    "                       ,StructField(\"REPORTED_DATE\", StringType(), True)\\\n",
    "                       ,StructField(\"_id\", StringType(), True)\\\n",
    "                       ,StructField(\"YEAR\", IntegerType(), True)\\\n",
    "                       ,StructField(\"DAY\", IntegerType(), True)\\\n",
    "                       ,StructField(\"DAY_OF_WEEK\", IntegerType(), True)\\\n",
    "                       ,StructField(\"MONTH\", IntegerType(), True)\\\n",
    "                       ,StructField(\"HOUR\", IntegerType(), True)])"
   ]
  },
  {
   "cell_type": "code",
   "execution_count": null,
   "metadata": {},
   "outputs": [],
   "source": [
    "sp_df = myspark.createDataFrame(df, schema=mySchema)"
   ]
  },
  {
   "cell_type": "code",
   "execution_count": null,
   "metadata": {},
   "outputs": [],
   "source": [
    "sp_df.createOrReplaceTempView(\"crimes\")"
   ]
  },
  {
   "cell_type": "code",
   "execution_count": null,
   "metadata": {},
   "outputs": [],
   "source": [
    "myspark.sql(\"select INCIDENT_ID from crimes\").show()"
   ]
  },
  {
   "cell_type": "markdown",
   "metadata": {},
   "source": [
    "## Crime vs Traffic Accidents"
   ]
  },
  {
   "cell_type": "code",
   "execution_count": null,
   "metadata": {},
   "outputs": [],
   "source": [
    "s1 = myspark.sql(\"select IS_CRIME, IS_TRAFFIC from crimes\")\n",
    "df1 = s1.toPandas()"
   ]
  },
  {
   "cell_type": "code",
   "execution_count": null,
   "metadata": {},
   "outputs": [],
   "source": [
    "df1"
   ]
  },
  {
   "cell_type": "code",
   "execution_count": null,
   "metadata": {},
   "outputs": [],
   "source": [
    "plt.figure(figsize=(6,5))\n",
    "crime_and_traffic = pd.crosstab(index=df1['IS_CRIME'],\n",
    "                                columns=df1['IS_TRAFFIC'])\n",
    "crime_and_traffic.index = [\"not crime\", \"crime\"]\n",
    "crime_and_traffic.columns = [\"not traffic\", \"traffic\"]\n",
    "sns.heatmap(crime_and_traffic, annot=True, fmt=\"d\", cmap=p2)"
   ]
  },
  {
   "cell_type": "markdown",
   "metadata": {},
   "source": [
    "## Offense categories distribution"
   ]
  },
  {
   "cell_type": "code",
   "execution_count": null,
   "metadata": {},
   "outputs": [],
   "source": [
    "s2 = myspark.sql(\"select OFFENSE_CATEGORY_ID from crimes\")\n",
    "df2 = s2.toPandas()"
   ]
  },
  {
   "cell_type": "code",
   "execution_count": null,
   "metadata": {},
   "outputs": [],
   "source": [
    "plt.figure(figsize=(8,8))\n",
    "cat_freq = df2.OFFENSE_CATEGORY_ID.value_counts()\n",
    "sns.countplot(y=\"OFFENSE_CATEGORY_ID\", data=df2, order=cat_freq.index, palette=p)"
   ]
  },
  {
   "cell_type": "markdown",
   "metadata": {},
   "source": [
    "> - Excluding traffic accidents the most common category is public disorder\n",
    "> - Then comes larceny (theft of personal items)\n",
    "> - We might need to do more analysis with all-other-crimes\n",
    "> - Murder is very rare in this dataset"
   ]
  },
  {
   "cell_type": "markdown",
   "metadata": {},
   "source": [
    "## Most and least common offense types excluding traffic accidents"
   ]
  },
  {
   "cell_type": "code",
   "execution_count": null,
   "metadata": {},
   "outputs": [],
   "source": [
    "s3 = myspark.sql(\"select OFFENSE_TYPE_ID from crimes\")\n",
    "df3 = s3.toPandas()\n",
    "f, axes = plt.subplots(1,2)\n",
    "f.set_figheight(8)\n",
    "f.set_figwidth(15)\n",
    "plt.subplots_adjust(wspace=.7)\n",
    "type_freq = df3.OFFENSE_TYPE_ID.value_counts()\n",
    "common_types = type_freq.iloc[1:11]\n",
    "rare_types = type_freq.iloc[-10:]\n",
    "axes[0].set_title(\"Most common offense types\")\n",
    "sns.countplot(y=\"OFFENSE_TYPE_ID\", data=df3, order=common_types.index, palette=p2, ax=axes[0])\n",
    "axes[1].set_title(\"Least common offense types\")\n",
    "sns.countplot(y=\"OFFENSE_TYPE_ID\", data=df3, order=rare_types.index, palette=p2, ax=axes[1])"
   ]
  },
  {
   "cell_type": "markdown",
   "metadata": {},
   "source": [
    "> - A large number of offenses are vehicle-related\n",
    "> - Public disorder is a common category but riots are actually rare (rare enough it's actually a riot instead of riots)\n",
    "> - Can't believe theft of cable services is a thing :D"
   ]
  },
  {
   "cell_type": "markdown",
   "metadata": {},
   "source": [
    "## All other crimes"
   ]
  },
  {
   "cell_type": "code",
   "execution_count": null,
   "metadata": {},
   "outputs": [],
   "source": [
    "s4 = myspark.sql(\"select OFFENSE_TYPE_ID, OFFENSE_CATEGORY_ID from crimes\")\n",
    "df4 = s4.toPandas()\n",
    "other_crimes = df4[df4.OFFENSE_CATEGORY_ID == \"all-other-crimes\"]\n",
    "other_crimes_freq = other_crimes.OFFENSE_TYPE_ID.value_counts()\n",
    "f, axes = plt.subplots(1,2)\n",
    "f.set_figheight(8)\n",
    "f.set_figwidth(15)\n",
    "plt.subplots_adjust(wspace=.7)\n",
    "other_common_types = other_crimes_freq.iloc[1:11]\n",
    "other_rare_types = other_crimes_freq.iloc[-10:]\n",
    "f.suptitle(\"All other crimes\", fontsize=32)\n",
    "axes[0].set_title(\"Most common offenses\")\n",
    "sns.countplot(y=\"OFFENSE_TYPE_ID\", data=other_crimes, order=other_common_types.index, palette=p2, ax=axes[0])\n",
    "axes[1].set_title(\"Least common offenses\")\n",
    "sns.countplot(y=\"OFFENSE_TYPE_ID\", data=other_crimes, order=other_rare_types.index, palette=p2, ax=axes[1])"
   ]
  },
  {
   "cell_type": "markdown",
   "metadata": {},
   "source": [
    "## Distribution of crime vs traffic over months"
   ]
  },
  {
   "cell_type": "code",
   "execution_count": null,
   "metadata": {},
   "outputs": [],
   "source": [
    "s5 = myspark.sql(\"select HOUR, MONTH, IS_TRAFFIC, IS_CRIME from crimes\")\n",
    "df5 = s5.toPandas()\n",
    "crimes_df = df5[df5.IS_CRIME==1]\n",
    "traffic_df = df5[df5.IS_TRAFFIC==1]"
   ]
  },
  {
   "cell_type": "code",
   "execution_count": null,
   "metadata": {},
   "outputs": [],
   "source": [
    "f, axes = plt.subplots(1,2)\n",
    "f.set_figheight(6)\n",
    "f.set_figwidth(13)\n",
    "plt.subplots_adjust(wspace=.5)\n",
    "axes[0].set_title(\"Crime\")\n",
    "sns.countplot(x=\"MONTH\", data=crimes_df, palette=p, ax=axes[0])\n",
    "axes[1].set_title(\"Traffic Accidents\")\n",
    "sns.countplot(x=\"MONTH\", data=traffic_df, palette=p, ax=axes[1])"
   ]
  },
  {
   "cell_type": "markdown",
   "metadata": {},
   "source": [
    "## Distribution of crime vs traffic per hour"
   ]
  },
  {
   "cell_type": "code",
   "execution_count": null,
   "metadata": {},
   "outputs": [],
   "source": [
    "sns.countplot(x=\"HOUR\", data=crimes_df, palette=p3)"
   ]
  },
  {
   "cell_type": "markdown",
   "metadata": {},
   "source": [
    "## Overall trend for crimes in Denver"
   ]
  },
  {
   "cell_type": "code",
   "execution_count": null,
   "metadata": {},
   "outputs": [],
   "source": [
    "# mean and standard deviation of crimes per day\n",
    "crimes_per_day = pd.DataFrame(crimes_df.resample('D').size())\n",
    "crimes_per_day[\"MEAN\"] = crimes_df.resample('D').size().mean()\n",
    "crimes_per_day[\"STD\"] = crimes_df.resample('D').size().std()\n",
    "# upper control limit and lower control limit\n",
    "UCL = crimes_per_day['MEAN'] + 3 * crimes_per_day['STD']\n",
    "LCL = crimes_per_day['MEAN'] - 3 * crimes_per_day['STD']"
   ]
  },
  {
   "cell_type": "code",
   "execution_count": null,
   "metadata": {},
   "outputs": [],
   "source": [
    "plt.figure(figsize=(15,6))\n",
    "df.resample('D').size().plot(label='Crimes per day', color='purple')\n",
    "UCL.plot(color='red', ls='--', linewidth=1.5, label='UCL')\n",
    "LCL.plot(color='red', ls='--', linewidth=1.5, label='LCL')\n",
    "crimes_per_day['MEAN'].plot(color='red', linewidth=2, label='Average')\n",
    "plt.title('Overall trend of crimes in Denver', fontsize=16)\n",
    "plt.xlabel('Day')\n",
    "plt.ylabel('Number of crimes')\n",
    "plt.tick_params(labelsize=14)"
   ]
  },
  {
   "cell_type": "code",
   "execution_count": null,
   "metadata": {},
   "outputs": [],
   "source": [
    "month_df = crimes_df.resample('M').size()\n",
    "plt.figure(figsize=(15,6))\n",
    "month_df.plot(label='Total,  accidents per month', color='purple')\n",
    "month_df.rolling(window=12).mean().plot(color='red', linewidth=5, label='12-Months Average')\n",
    "plt.title('Overall trend of crimes in Denver(by month)', fontsize=16)"
   ]
  },
  {
   "cell_type": "code",
   "execution_count": null,
   "metadata": {},
   "outputs": [],
   "source": [
    "print(\"Best Month {0}: {1}\".format(month_df.idxmin(), month_df[month_df.idxmin()]))\n",
    "print(\"Worst Month {0}: {1}\".format(month_df.idxmax(), month_df[month_df.idxmax()]))"
   ]
  },
  {
   "cell_type": "markdown",
   "metadata": {},
   "source": [
    "> - The overall trend seems to be increasing, and there's a slightly decrease in 2019\n",
    "> - But 2019 is not over and the violent month is not here yet\n",
    "> - We have more outliers toward the upper end (very violent days)\n",
    "> - Feburary 2014 is the best month with 4211 crimes\n",
    "> - August 2017 was the worst month with 6562 crimes"
   ]
  }
 ],
 "metadata": {
  "kernelspec": {
   "display_name": "Python 3",
   "language": "python",
   "name": "python3"
  },
  "language_info": {
   "codemirror_mode": {
    "name": "ipython",
    "version": 3
   },
   "file_extension": ".py",
   "mimetype": "text/x-python",
   "name": "python",
   "nbconvert_exporter": "python",
   "pygments_lexer": "ipython3",
   "version": "3.7.3"
  }
 },
 "nbformat": 4,
 "nbformat_minor": 4
}
